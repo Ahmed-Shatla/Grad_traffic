{
  "nbformat": 4,
  "nbformat_minor": 0,
  "metadata": {
    "colab": {
      "name": "Untitled30.ipynb",
      "provenance": [],
      "collapsed_sections": [],
      "authorship_tag": "ABX9TyOK9SV4cMbFLKpYvhR5mbST",
      "include_colab_link": true
    },
    "kernelspec": {
      "name": "python3",
      "display_name": "Python 3"
    },
    "language_info": {
      "name": "python"
    },
    "accelerator": "TPU",
    "gpuClass": "standard"
  },
  "cells": [
    {
      "cell_type": "markdown",
      "metadata": {
        "id": "view-in-github",
        "colab_type": "text"
      },
      "source": [
        "<a href=\"https://colab.research.google.com/github/Ahmed-Shatla/Grad_traffic/blob/main/Untitled30.ipynb\" target=\"_parent\"><img src=\"https://colab.research.google.com/assets/colab-badge.svg\" alt=\"Open In Colab\"/></a>"
      ]
    },
    {
      "cell_type": "code",
      "source": [
        "from google.colab import drive\n",
        "drive.mount('/content/drive')"
      ],
      "metadata": {
        "colab": {
          "base_uri": "https://localhost:8080/"
        },
        "id": "g0sMMWVzEJe9",
        "outputId": "e5f4b8e9-bb0c-4ee3-d1fe-c4afcbb7676d"
      },
      "execution_count": 1,
      "outputs": [
        {
          "output_type": "stream",
          "name": "stdout",
          "text": [
            "Drive already mounted at /content/drive; to attempt to forcibly remount, call drive.mount(\"/content/drive\", force_remount=True).\n"
          ]
        }
      ]
    },
    {
      "cell_type": "code",
      "execution_count": 2,
      "metadata": {
        "id": "7rbaTD1AEE5D"
      },
      "outputs": [],
      "source": [
        "data_path = '/content/drive/MyDrive/Traffic'"
      ]
    },
    {
      "cell_type": "code",
      "source": [
        "import os\n",
        "import cv2\n",
        "import matplotlib.pyplot as plt\n",
        "import numpy as np"
      ],
      "metadata": {
        "id": "co9FOObgEzfF"
      },
      "execution_count": 3,
      "outputs": []
    },
    {
      "cell_type": "markdown",
      "source": [
        "#1 ===> STOP\n",
        "#2 ===> TURN LEFT\n",
        "#3 ===> TURN RIGHT\n"
      ],
      "metadata": {
        "id": "-kmlvolcKU39"
      }
    },
    {
      "cell_type": "code",
      "source": [
        "images = []\n",
        "labels = []\n",
        "for label in os.listdir(data_path):\n",
        "  for image in os.listdir(data_path+'/'+label):\n",
        "    img = cv2.imread(data_path+'/'+label+'/'+image)\n",
        "    images.append(img)\n",
        "    labels.append(label)"
      ],
      "metadata": {
        "id": "uNggRHGCEh-b"
      },
      "execution_count": 4,
      "outputs": []
    },
    {
      "cell_type": "code",
      "source": [
        "def get_avg_shape(images):\n",
        "  w = []\n",
        "  h = []\n",
        "  for image in images:\n",
        "    h.append(image.shape[0])\n",
        "    w.append(image.shape[1])\n",
        "\n",
        "  return int(np.mean(h)),int(np.mean(w))"
      ],
      "metadata": {
        "id": "p4aBP_PkKj1R"
      },
      "execution_count": 5,
      "outputs": []
    },
    {
      "cell_type": "code",
      "source": [
        "avg_h,avg_w = get_avg_shape(images)\n",
        "print(\"Average Shape: \"+str(avg_h)+\",\"+str(avg_w))"
      ],
      "metadata": {
        "colab": {
          "base_uri": "https://localhost:8080/"
        },
        "id": "J-pWuQYtKtHW",
        "outputId": "e098aed8-2109-4e54-90b7-067e81980d37"
      },
      "execution_count": 6,
      "outputs": [
        {
          "output_type": "stream",
          "name": "stdout",
          "text": [
            "Average Shape: 103,102\n"
          ]
        }
      ]
    },
    {
      "cell_type": "code",
      "source": [
        "def reshape_images(images):\n",
        "  reshaped_img = []\n",
        "  for image in images:\n",
        "    reshaped_img.append(cv2.resize(image,(90,90)))\n",
        "  return reshaped_img"
      ],
      "metadata": {
        "id": "dJo_EIkLK4C7"
      },
      "execution_count": 7,
      "outputs": []
    },
    {
      "cell_type": "code",
      "source": [
        "reshaped_images = reshape_images(images)"
      ],
      "metadata": {
        "id": "s4B2IgWcLPSA"
      },
      "execution_count": 8,
      "outputs": []
    },
    {
      "cell_type": "code",
      "source": [
        "reshaped_images[0].shape"
      ],
      "metadata": {
        "colab": {
          "base_uri": "https://localhost:8080/"
        },
        "id": "BypMLYHdLPxA",
        "outputId": "99b021a0-4e00-4332-92cc-1c6687b5f71c"
      },
      "execution_count": 9,
      "outputs": [
        {
          "output_type": "execute_result",
          "data": {
            "text/plain": [
              "(90, 90, 3)"
            ]
          },
          "metadata": {},
          "execution_count": 9
        }
      ]
    },
    {
      "cell_type": "code",
      "source": [
        "X = reshaped_images"
      ],
      "metadata": {
        "id": "acJja34ALSTi"
      },
      "execution_count": 10,
      "outputs": []
    },
    {
      "cell_type": "code",
      "source": [
        "plt.imshow(cv2.cvtColor(X[4],cv2.COLOR_BGR2RGB))"
      ],
      "metadata": {
        "colab": {
          "base_uri": "https://localhost:8080/",
          "height": 286
        },
        "id": "NYAt-lMGLWE1",
        "outputId": "f20ab281-f7c4-49c6-e244-4932fa15aacf"
      },
      "execution_count": 11,
      "outputs": [
        {
          "output_type": "execute_result",
          "data": {
            "text/plain": [
              "<matplotlib.image.AxesImage at 0x7f1a486fd410>"
            ]
          },
          "metadata": {},
          "execution_count": 11
        },
        {
          "output_type": "display_data",
          "data": {
            "text/plain": [
              "<Figure size 432x288 with 1 Axes>"
            ],
            "image/png": "[encoded data removed]"
          },
          "metadata": {
            "needs_background": "light"
          }
        }
      ]
    },
    {
      "cell_type": "code",
      "source": [
        "from sklearn.preprocessing import LabelEncoder\n",
        "lb = LabelEncoder()\n",
        "labels = lb.fit_transform(labels)"
      ],
      "metadata": {
        "id": "v5lN29EWLYoh"
      },
      "execution_count": 12,
      "outputs": []
    },
    {
      "cell_type": "code",
      "source": [
        "from tensorflow.keras.utils import to_categorical\n",
        "y = to_categorical(labels)"
      ],
      "metadata": {
        "id": "LzGNqoVuLdxt"
      },
      "execution_count": 13,
      "outputs": []
    },
    {
      "cell_type": "code",
      "source": [
        "y.shape"
      ],
      "metadata": {
        "colab": {
          "base_uri": "https://localhost:8080/"
        },
        "id": "PV_efedZLgOZ",
        "outputId": "e40f6d8a-5982-4b65-f936-e5f0d481b1a0"
      },
      "execution_count": 14,
      "outputs": [
        {
          "output_type": "execute_result",
          "data": {
            "text/plain": [
              "(1249, 3)"
            ]
          },
          "metadata": {},
          "execution_count": 14
        }
      ]
    },
    {
      "cell_type": "code",
      "source": [
        "X = np.array(X)"
      ],
      "metadata": {
        "id": "9i2ImU-0LhsW"
      },
      "execution_count": 15,
      "outputs": []
    },
    {
      "cell_type": "code",
      "source": [
        "X.shape"
      ],
      "metadata": {
        "colab": {
          "base_uri": "https://localhost:8080/"
        },
        "id": "qGBBhw5FLoan",
        "outputId": "7d15d889-0e83-4aa2-a940-d24d4ea695d4"
      },
      "execution_count": 16,
      "outputs": [
        {
          "output_type": "execute_result",
          "data": {
            "text/plain": [
              "(1249, 90, 90, 3)"
            ]
          },
          "metadata": {},
          "execution_count": 16
        }
      ]
    },
    {
      "cell_type": "code",
      "source": [
        "from sklearn.model_selection import train_test_split\n",
        "X_train, X_valid, y_train, y_valid = train_test_split(X,y,test_size=0.2)"
      ],
      "metadata": {
        "id": "r75qsRj9Lt71"
      },
      "execution_count": 17,
      "outputs": []
    },
    {
      "cell_type": "markdown",
      "source": [
        "#Transfare learning"
      ],
      "metadata": {
        "id": "F4uMnqu-L45w"
      }
    },
    {
      "cell_type": "code",
      "source": [
        "from tensorflow.keras.applications import VGG16"
      ],
      "metadata": {
        "id": "m2qtRYraLz2p"
      },
      "execution_count": 18,
      "outputs": []
    },
    {
      "cell_type": "code",
      "source": [
        "model = VGG16(weights='imagenet',include_top=False,input_shape=((90,90,3)))\n",
        "model.summary()"
      ],
      "metadata": {
        "colab": {
          "base_uri": "https://localhost:8080/"
        },
        "id": "A1eoPyOrL9Cv",
        "outputId": "88cd2580-178e-4f4c-a558-083d5bdd8b34"
      },
      "execution_count": 19,
      "outputs": [
        {
          "output_type": "stream",
          "name": "stdout",
          "text": [
            "Downloading data from https://storage.googleapis.com/tensorflow/keras-applications/vgg16/vgg16_weights_tf_dim_ordering_tf_kernels_notop.h5\n",
            "58892288/58889256 [==============================] - 0s 0us/step\n",
            "58900480/58889256 [==============================] - 0s 0us/step\n",
            "Model: \"vgg16\"\n",
            "_________________________________________________________________\n",
            " Layer (type)                Output Shape              Param #   \n",
            "=================================================================\n",
            " input_1 (InputLayer)        [(None, 90, 90, 3)]       0         \n",
            "                                                                 \n",
            " block1_conv1 (Conv2D)       (None, 90, 90, 64)        1792      \n",
            "                                                                 \n",
            " block1_conv2 (Conv2D)       (None, 90, 90, 64)        36928     \n",
            "                                                                 \n",
            " block1_pool (MaxPooling2D)  (None, 45, 45, 64)        0         \n",
            "                                                                 \n",
            " block2_conv1 (Conv2D)       (None, 45, 45, 128)       73856     \n",
            "                                                                 \n",
            " block2_conv2 (Conv2D)       (None, 45, 45, 128)       147584    \n",
            "                                                                 \n",
            " block2_pool (MaxPooling2D)  (None, 22, 22, 128)       0         \n",
            "                                                                 \n",
            " block3_conv1 (Conv2D)       (None, 22, 22, 256)       295168    \n",
            "                                                                 \n",
            " block3_conv2 (Conv2D)       (None, 22, 22, 256)       590080    \n",
            "                                                                 \n",
            " block3_conv3 (Conv2D)       (None, 22, 22, 256)       590080    \n",
            "                                                                 \n",
            " block3_pool (MaxPooling2D)  (None, 11, 11, 256)       0         \n",
            "                                                                 \n",
            " block4_conv1 (Conv2D)       (None, 11, 11, 512)       1180160   \n",
            "                                                                 \n",
            " block4_conv2 (Conv2D)       (None, 11, 11, 512)       2359808   \n",
            "                                                                 \n",
            " block4_conv3 (Conv2D)       (None, 11, 11, 512)       2359808   \n",
            "                                                                 \n",
            " block4_pool (MaxPooling2D)  (None, 5, 5, 512)         0         \n",
            "                                                                 \n",
            " block5_conv1 (Conv2D)       (None, 5, 5, 512)         2359808   \n",
            "                                                                 \n",
            " block5_conv2 (Conv2D)       (None, 5, 5, 512)         2359808   \n",
            "                                                                 \n",
            " block5_conv3 (Conv2D)       (None, 5, 5, 512)         2359808   \n",
            "                                                                 \n",
            " block5_pool (MaxPooling2D)  (None, 2, 2, 512)         0         \n",
            "                                                                 \n",
            "=================================================================\n",
            "Total params: 14,714,688\n",
            "Trainable params: 14,714,688\n",
            "Non-trainable params: 0\n",
            "_________________________________________________________________\n"
          ]
        }
      ]
    },
    {
      "cell_type": "code",
      "source": [
        "from tensorflow.keras.layers import Dense,Flatten,Dropout\n",
        "from tensorflow.keras import Model"
      ],
      "metadata": {
        "id": "ABHLdX9dL_vB"
      },
      "execution_count": 20,
      "outputs": []
    },
    {
      "cell_type": "code",
      "source": [
        "for layer in model.layers:\n",
        "  layer.trainable = False"
      ],
      "metadata": {
        "id": "gTQ4dCNDMMUY"
      },
      "execution_count": 21,
      "outputs": []
    },
    {
      "cell_type": "code",
      "source": [
        "model.summary()"
      ],
      "metadata": {
        "colab": {
          "base_uri": "https://localhost:8080/"
        },
        "id": "ryZiABVwMOZ-",
        "outputId": "2a1c6a2c-924c-488d-bd13-71c157e26cac"
      },
      "execution_count": 22,
      "outputs": [
        {
          "output_type": "stream",
          "name": "stdout",
          "text": [
            "Model: \"vgg16\"\n",
            "_________________________________________________________________\n",
            " Layer (type)                Output Shape              Param #   \n",
            "=================================================================\n",
            " input_1 (InputLayer)        [(None, 90, 90, 3)]       0         \n",
            "                                                                 \n",
            " block1_conv1 (Conv2D)       (None, 90, 90, 64)        1792      \n",
            "                                                                 \n",
            " block1_conv2 (Conv2D)       (None, 90, 90, 64)        36928     \n",
            "                                                                 \n",
            " block1_pool (MaxPooling2D)  (None, 45, 45, 64)        0         \n",
            "                                                                 \n",
            " block2_conv1 (Conv2D)       (None, 45, 45, 128)       73856     \n",
            "                                                                 \n",
            " block2_conv2 (Conv2D)       (None, 45, 45, 128)       147584    \n",
            "                                                                 \n",
            " block2_pool (MaxPooling2D)  (None, 22, 22, 128)       0         \n",
            "                                                                 \n",
            " block3_conv1 (Conv2D)       (None, 22, 22, 256)       295168    \n",
            "                                                                 \n",
            " block3_conv2 (Conv2D)       (None, 22, 22, 256)       590080    \n",
            "                                                                 \n",
            " block3_conv3 (Conv2D)       (None, 22, 22, 256)       590080    \n",
            "                                                                 \n",
            " block3_pool (MaxPooling2D)  (None, 11, 11, 256)       0         \n",
            "                                                                 \n",
            " block4_conv1 (Conv2D)       (None, 11, 11, 512)       1180160   \n",
            "                                                                 \n",
            " block4_conv2 (Conv2D)       (None, 11, 11, 512)       2359808   \n",
            "                                                                 \n",
            " block4_conv3 (Conv2D)       (None, 11, 11, 512)       2359808   \n",
            "                                                                 \n",
            " block4_pool (MaxPooling2D)  (None, 5, 5, 512)         0         \n",
            "                                                                 \n",
            " block5_conv1 (Conv2D)       (None, 5, 5, 512)         2359808   \n",
            "                                                                 \n",
            " block5_conv2 (Conv2D)       (None, 5, 5, 512)         2359808   \n",
            "                                                                 \n",
            " block5_conv3 (Conv2D)       (None, 5, 5, 512)         2359808   \n",
            "                                                                 \n",
            " block5_pool (MaxPooling2D)  (None, 2, 2, 512)         0         \n",
            "                                                                 \n",
            "=================================================================\n",
            "Total params: 14,714,688\n",
            "Trainable params: 0\n",
            "Non-trainable params: 14,714,688\n",
            "_________________________________________________________________\n"
          ]
        }
      ]
    },
    {
      "cell_type": "code",
      "source": [
        "model_output = model.output\n",
        "model_output = Flatten()(model_output)\n",
        "model_output = Dense(512,activation='relu')(model_output)\n",
        "model_output = Dense(256,activation='relu')(model_output)\n",
        "model_output = Dropout(.2)(model_output)\n",
        "model_output = Dense(128,activation='relu')(model_output)\n",
        "model_output = Dense(64,activation='relu')(model_output)\n",
        "model_output = Dense(128,activation='relu')(model_output)\n",
        "model_output = Dense(256,activation='relu')(model_output)\n",
        "model_output = Dropout(.1)(model_output)\n",
        "\n",
        "\n",
        "model_output = Dense(3,activation='sigmoid')(model_output)\n",
        "\n",
        "final_model = Model(model.input,model_output)"
      ],
      "metadata": {
        "id": "XQHESfTqMRcG"
      },
      "execution_count": 23,
      "outputs": []
    },
    {
      "cell_type": "code",
      "source": [
        "final_model.summary()"
      ],
      "metadata": {
        "colab": {
          "base_uri": "https://localhost:8080/"
        },
        "id": "NBkL7UJJMaqP",
        "outputId": "e186f95f-81fe-436a-bc20-cbc5830fe22e"
      },
      "execution_count": 24,
      "outputs": [
        {
          "output_type": "stream",
          "name": "stdout",
          "text": [
            "Model: \"model\"\n",
            "_________________________________________________________________\n",
            " Layer (type)                Output Shape              Param #   \n",
            "=================================================================\n",
            " input_1 (InputLayer)        [(None, 90, 90, 3)]       0         \n",
            "                                                                 \n",
            " block1_conv1 (Conv2D)       (None, 90, 90, 64)        1792      \n",
            "                                                                 \n",
            " block1_conv2 (Conv2D)       (None, 90, 90, 64)        36928     \n",
            "                                                                 \n",
            " block1_pool (MaxPooling2D)  (None, 45, 45, 64)        0         \n",
            "                                                                 \n",
            " block2_conv1 (Conv2D)       (None, 45, 45, 128)       73856     \n",
            "                                                                 \n",
            " block2_conv2 (Conv2D)       (None, 45, 45, 128)       147584    \n",
            "                                                                 \n",
            " block2_pool (MaxPooling2D)  (None, 22, 22, 128)       0         \n",
            "                                                                 \n",
            " block3_conv1 (Conv2D)       (None, 22, 22, 256)       295168    \n",
            "                                                                 \n",
            " block3_conv2 (Conv2D)       (None, 22, 22, 256)       590080    \n",
            "                                                                 \n",
            " block3_conv3 (Conv2D)       (None, 22, 22, 256)       590080    \n",
            "                                                                 \n",
            " block3_pool (MaxPooling2D)  (None, 11, 11, 256)       0         \n",
            "                                                                 \n",
            " block4_conv1 (Conv2D)       (None, 11, 11, 512)       1180160   \n",
            "                                                                 \n",
            " block4_conv2 (Conv2D)       (None, 11, 11, 512)       2359808   \n",
            "                                                                 \n",
            " block4_conv3 (Conv2D)       (None, 11, 11, 512)       2359808   \n",
            "                                                                 \n",
            " block4_pool (MaxPooling2D)  (None, 5, 5, 512)         0         \n",
            "                                                                 \n",
            " block5_conv1 (Conv2D)       (None, 5, 5, 512)         2359808   \n",
            "                                                                 \n",
            " block5_conv2 (Conv2D)       (None, 5, 5, 512)         2359808   \n",
            "                                                                 \n",
            " block5_conv3 (Conv2D)       (None, 5, 5, 512)         2359808   \n",
            "                                                                 \n",
            " block5_pool (MaxPooling2D)  (None, 2, 2, 512)         0         \n",
            "                                                                 \n",
            " flatten (Flatten)           (None, 2048)              0         \n",
            "                                                                 \n",
            " dense (Dense)               (None, 512)               1049088   \n",
            "                                                                 \n",
            " dense_1 (Dense)             (None, 256)               131328    \n",
            "                                                                 \n",
            " dropout (Dropout)           (None, 256)               0         \n",
            "                                                                 \n",
            " dense_2 (Dense)             (None, 128)               32896     \n",
            "                                                                 \n",
            " dense_3 (Dense)             (None, 64)                8256      \n",
            "                                                                 \n",
            " dense_4 (Dense)             (None, 128)               8320      \n",
            "                                                                 \n",
            " dense_5 (Dense)             (None, 256)               33024     \n",
            "                                                                 \n",
            " dropout_1 (Dropout)         (None, 256)               0         \n",
            "                                                                 \n",
            " dense_6 (Dense)             (None, 3)                 771       \n",
            "                                                                 \n",
            "=================================================================\n",
            "Total params: 15,978,371\n",
            "Trainable params: 1,263,683\n",
            "Non-trainable params: 14,714,688\n",
            "_________________________________________________________________\n"
          ]
        }
      ]
    },
    {
      "cell_type": "code",
      "source": [
        "final_model.compile(optimizer='adam',loss='categorical_crossentropy',metrics=['accuracy'])\n"
      ],
      "metadata": {
        "id": "GGElypl8R0tv"
      },
      "execution_count": 25,
      "outputs": []
    },
    {
      "cell_type": "code",
      "source": [
        "history = final_model.fit(X_train,y_train,batch_size=64,epochs=3,validation_data=(X_valid,y_valid),verbose=1)"
      ],
      "metadata": {
        "colab": {
          "base_uri": "https://localhost:8080/"
        },
        "id": "npq2nIxLkaoq",
        "outputId": "68aa4f2b-cd8f-46bf-f704-aca24c71764d"
      },
      "execution_count": 26,
      "outputs": [
        {
          "output_type": "stream",
          "name": "stdout",
          "text": [
            "Epoch 1/3\n",
            "16/16 [==============================] - 97s 6s/step - loss: 0.8931 - accuracy: 0.6306 - val_loss: 0.4162 - val_accuracy: 0.7760\n",
            "Epoch 2/3\n",
            "16/16 [==============================] - 97s 6s/step - loss: 0.3128 - accuracy: 0.8619 - val_loss: 0.3269 - val_accuracy: 0.8760\n",
            "Epoch 3/3\n",
            "16/16 [==============================] - 95s 6s/step - loss: 0.1795 - accuracy: 0.9249 - val_loss: 0.2133 - val_accuracy: 0.9200\n"
          ]
        }
      ]
    },
    {
      "cell_type": "code",
      "source": [
        "final_model.save('CNN_Model.h5')"
      ],
      "metadata": {
        "id": "7JUEqfi2pgNP"
      },
      "execution_count": 27,
      "outputs": []
    }
  ]
}
